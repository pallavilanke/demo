{
 "cells": [
  {
   "cell_type": "markdown",
   "metadata": {},
   "source": [
    "pip install emoji --upgrade"
   ]
  },
  {
   "cell_type": "code",
   "execution_count": 13,
   "metadata": {},
   "outputs": [
    {
     "name": "stdout",
     "output_type": "stream",
     "text": [
      "Research is very easy!!! 👍\n",
      "Always keep smiling ☺\n",
      "Stay safe and always wear a 😷\n",
      "Python is :thumbs_up:\n"
     ]
    }
   ],
   "source": [
    "import emoji\n",
    "print(emoji.emojize('Research is very easy!!! :thumbs_up:'))\n",
    "print(emoji.emojize('Always keep smiling :smiling_face:'))\n",
    "print(emoji.emojize('Stay safe and always wear a :face_with_medical_mask:'))\n",
    "print(emoji.demojize('Python is 👍'))"
   ]
  },
  {
   "cell_type": "code",
   "execution_count": null,
   "metadata": {},
   "outputs": [],
   "source": []
  }
 ],
 "metadata": {
  "kernelspec": {
   "display_name": "Python 3",
   "language": "python",
   "name": "python3"
  },
  "language_info": {
   "codemirror_mode": {
    "name": "ipython",
    "version": 3
   },
   "file_extension": ".py",
   "mimetype": "text/x-python",
   "name": "python",
   "nbconvert_exporter": "python",
   "pygments_lexer": "ipython3",
   "version": "3.5.2"
  }
 },
 "nbformat": 4,
 "nbformat_minor": 4
}
